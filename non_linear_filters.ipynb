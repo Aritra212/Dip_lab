{
 "cells": [
  {
   "cell_type": "markdown",
   "id": "0b22427e-b618-4d09-814e-d8a5a47a0a1c",
   "metadata": {},
   "source": [
    "### Import modules"
   ]
  },
  {
   "cell_type": "code",
   "execution_count": 1,
   "id": "38ca7208-6070-4a47-9c62-abda8619e441",
   "metadata": {},
   "outputs": [],
   "source": [
    "import numpy as np\n",
    "import matplotlib.pyplot as plt\n",
    "%matplotlib inline"
   ]
  },
  {
   "cell_type": "markdown",
   "id": "dd994ed2-d117-4cb6-8b91-759b6adf5941",
   "metadata": {},
   "source": [
    "### Read Image Function"
   ]
  },
  {
   "cell_type": "code",
   "execution_count": 2,
   "id": "0f554e63-7d94-4477-b4bf-8e16bcc86935",
   "metadata": {},
   "outputs": [],
   "source": [
    "def Read_img(path):\n",
    "    img= open(path,\"r\")\n",
    "    g= img.readline()\n",
    "    c= img.readline()\n",
    "    rc= img.readline()\n",
    "    max= int(img.readline())\n",
    "    \n",
    "    [col,row]=[int (i) for i in rc.split()]\n",
    "    k=np.zeros((row,col),np.int64)  #Arry to store all image pixels\n",
    "    for i in range (row):\n",
    "        for j in range(col):\n",
    "            k[i,j]=img.readline()\n",
    "    \n",
    "    img.close()\n",
    "    plt.imshow(k,cmap='gray')\n",
    "    return k,g,c,rc,max,col,row"
   ]
  },
  {
   "cell_type": "markdown",
   "id": "746ab28e-4063-4cb8-99a0-ee645a0bcba6",
   "metadata": {},
   "source": [
    "### Store/Write O/p Image Function"
   ]
  },
  {
   "cell_type": "code",
   "execution_count": 3,
   "id": "f5b20c71-72d3-4825-b0d7-ba8d6cdee5f9",
   "metadata": {},
   "outputs": [],
   "source": [
    "def Write_img(path,k,g,c,rc,max,col,row):\n",
    "    img= open(path,\"w\")\n",
    "    img.write(g)\n",
    "    img.write(c)\n",
    "    img.write(rc)\n",
    "    img.write(str(max))\n",
    "    \n",
    "    for i in range(row):\n",
    "        for j in range(col):\n",
    "            img.write(\"%d\\n\"%k[i,j])\n",
    "    plt.imshow(k,cmap='gray')\n",
    "    img.close()"
   ]
  },
  {
   "cell_type": "markdown",
   "id": "9e1b8629-a7c3-47b0-923e-a92349e2f66e",
   "metadata": {},
   "source": [
    "### Function used for padding"
   ]
  },
  {
   "cell_type": "code",
   "execution_count": 4,
   "id": "e7249178-93a2-4c37-855f-cb4b6ac2f00c",
   "metadata": {},
   "outputs": [],
   "source": [
    "def add_padding(arr,row,col,k_row,k_col):\n",
    "    r_pd_size= (k_row-1)//2\n",
    "    c_pd_size= (k_col-1)//2\n",
    "    n_row=row+r_pd_size*2\n",
    "    n_col=col+c_pd_size*2\n",
    "    new_arr= np.zeros((n_row,n_col),np.int64)\n",
    "    for i in range(r_pd_size,row+r_pd_size):\n",
    "        for j in range(c_pd_size,col+c_pd_size):\n",
    "            new_arr[i,j]=arr[i-r_pd_size,j-c_pd_size]\n",
    "    return new_arr,n_row,n_col"
   ]
  },
  {
   "cell_type": "markdown",
   "id": "fcf13f2a-b260-4867-9a12-e5354ed77557",
   "metadata": {},
   "source": [
    "### Median filter"
   ]
  },
  {
   "cell_type": "code",
   "execution_count": 26,
   "id": "89e1f045-74b4-4e5d-8097-71432c495d87",
   "metadata": {},
   "outputs": [],
   "source": [
    "def median_filter(arr,row,col,f_size):\n",
    "\n",
    "    padded_img,n_row,n_col= add_padding(arr,row,col,f_size,f_size)\n",
    "    result= np.zeros((row,col),np.int64)  #Arry to store all image pixels after convolutation\n",
    "\n",
    "    for i in range(row):\n",
    "        for j in range(col):\n",
    "            # neighbourhood= padded_img[max(0,i-f_size):min(row,i+f_size), max(0,j-f_size):min(col,j+f_size)]\n",
    "            neighbourhood= padded_img[i:f_size+i, j:f_size+j]\n",
    "            result[i,j]=int(np.median(neighbourhood))\n",
    "\n",
    "    return result"
   ]
  },
  {
   "cell_type": "markdown",
   "id": "140f76f9-9c30-48e7-af6a-50df8c56d9bc",
   "metadata": {},
   "source": [
    "### Min Filter"
   ]
  },
  {
   "cell_type": "code",
   "execution_count": 30,
   "id": "24d74879-6368-4b72-b230-d39059ddd75f",
   "metadata": {},
   "outputs": [],
   "source": [
    "def min_filter(arr,row,col,f_size):\n",
    "\n",
    "    padded_img,n_row,n_col= add_padding(arr,row,col,f_size,f_size)\n",
    "    result= np.zeros((row,col),np.int64)  #Arry to store all image pixels after convolutation\n",
    "\n",
    "    for i in range(row):\n",
    "        for j in range(col):\n",
    "            neighbourhood= padded_img[i:f_size+i, j:f_size+j]\n",
    "            result[i,j]=np.min(neighbourhood)\n",
    "\n",
    "    return result"
   ]
  },
  {
   "cell_type": "markdown",
   "id": "83c064de-7ef2-46dd-8659-eb8a5bcc74bb",
   "metadata": {},
   "source": [
    "### Max Filter"
   ]
  },
  {
   "cell_type": "code",
   "execution_count": 25,
   "id": "00714acd-ea7f-4494-822c-60b3f15c9803",
   "metadata": {},
   "outputs": [],
   "source": [
    "def max_filter(arr,row,col,f_size):\n",
    "\n",
    "    padded_img,n_row,n_col= add_padding(arr,row,col,f_size,f_size)\n",
    "    result= np.zeros((row,col),np.int64)  #Arry to store all image pixels after convolutation\n",
    "\n",
    "    for i in range(row):\n",
    "        for j in range(col):\n",
    "            neighbourhood= padded_img[i:f_size+i, j:f_size+j]\n",
    "            result[i,j]=np.max(neighbourhood)\n",
    "\n",
    "    return result"
   ]
  },
  {
   "cell_type": "markdown",
   "id": "97803233-07ee-485d-86c3-2aaf1f9aefcd",
   "metadata": {},
   "source": [
    "### Main Function"
   ]
  },
  {
   "cell_type": "code",
   "execution_count": 32,
   "id": "883771f7-49f6-451d-a1cd-c9f07ad6f489",
   "metadata": {},
   "outputs": [
    {
     "name": "stdin",
     "output_type": "stream",
     "text": [
      "\n",
      "Enter filter size=  3\n",
      "\n",
      "Enter 1 to apply meadian filter\n",
      "Enter 2 to apply min filter\n",
      "Enter 3 to apply max filter\n",
      "Enter your choice::  2\n"
     ]
    },
    {
     "data": {
      "image/png": "[encoded data removed]",
      "text/plain": [
       "<Figure size 640x480 with 1 Axes>"
      ]
     },
     "metadata": {},
     "output_type": "display_data"
    }
   ],
   "source": [
    "if __name__ == '__main__':\n",
    "    \n",
    "    k1,g1,c1,rc1,max1,col1,row1= Read_img(\"..\\images\\DIP3E_Original_Images_CH03\\Fig0333(a)(test_pattern_blurring_orig).pgm\")\n",
    "    \n",
    "    f= int(input(\"\\nEnter filter size= \"))\n",
    "    ch=int(input(\"\\nEnter 1 to apply meadian filter\\nEnter 2 to apply min filter\\nEnter 3 to apply max filter\\nEnter your choice:: \"))\n",
    "    if ch==1:\n",
    "        result=median_filter(k1,row1,col1,f)\n",
    "        Write_img(f\"outputs\\\\medianfilter_img.pgm\",result,g1,c1,rc1,max1,col1,row1)\n",
    "    elif ch==2:\n",
    "        result=min_filter(k1,row1,col1,f)\n",
    "        Write_img(f\"outputs\\\\minfilter_img.pgm\",result,g1,c1,rc1,max1,col1,row1)\n",
    "    elif ch==3:\n",
    "        result=max_filter(k1,row1,col1,f)\n",
    "        Write_img(f\"outputs\\\\maxfilter_img.pgm\",result,g1,c1,rc1,max1,col1,row1)\n",
    "    else :\n",
    "        print(\"\\nInvalid choice!\")"
   ]
  },
  {
   "cell_type": "markdown",
   "id": "c06df11c-0ec9-4525-9d92-5f3b467952ff",
   "metadata": {},
   "source": [
    "### Tests"
   ]
  },
  {
   "cell_type": "code",
   "execution_count": 10,
   "id": "b091a33b-5111-4d9d-a9c7-aa2fc1720ccb",
   "metadata": {},
   "outputs": [],
   "source": [
    "input_arr= arr=np.array([[1,8,8,0,7],[4,7,9,5,7],[5,4,6,8,6],[4,2,0,1,5],[0,1,0,2,0]])\n",
    "row,col=input_arr.shape"
   ]
  },
  {
   "cell_type": "code",
   "execution_count": 27,
   "id": "5c138d00-c349-4470-b8c2-7ab3557c4fb3",
   "metadata": {},
   "outputs": [
    {
     "name": "stdout",
     "output_type": "stream",
     "text": [
      "input\n",
      "[[1 8 8 0 7]\n",
      " [4 7 9 5 7]\n",
      " [5 4 6 8 6]\n",
      " [4 2 0 1 5]\n",
      " [0 1 0 2 0]]\n",
      "output\n",
      "[[0 4 5 5 0]\n",
      " [4 6 7 7 5]\n",
      " [4 4 5 6 5]\n",
      " [1 2 2 2 1]\n",
      " [0 0 0 0 0]]\n"
     ]
    }
   ],
   "source": [
    "#Median Filter Test\n",
    "result= median_filter(input_arr,5,5,3)\n",
    "print(f\"input\\n{input_arr}\\noutput\\n{result}\")"
   ]
  },
  {
   "cell_type": "code",
   "execution_count": 29,
   "id": "209abce3-747d-4f83-a378-34199212bef9",
   "metadata": {},
   "outputs": [
    {
     "name": "stdout",
     "output_type": "stream",
     "text": [
      "input\n",
      "[[1 8 8 0 7]\n",
      " [4 7 9 5 7]\n",
      " [5 4 6 8 6]\n",
      " [4 2 0 1 5]\n",
      " [0 1 0 2 0]]\n",
      "output\n",
      "[[8 9 9 9 7]\n",
      " [8 9 9 9 8]\n",
      " [7 9 9 9 8]\n",
      " [5 6 8 8 8]\n",
      " [4 4 2 5 5]]\n"
     ]
    }
   ],
   "source": [
    "# Max Filter Test\n",
    "result= max_filter(input_arr,5,5,3)\n",
    "print(f\"input\\n{input_arr}\\noutput\\n{result}\")"
   ]
  },
  {
   "cell_type": "code",
   "execution_count": 31,
   "id": "7322d4f9-d872-40d1-8501-66875a348fdc",
   "metadata": {},
   "outputs": [
    {
     "name": "stdout",
     "output_type": "stream",
     "text": [
      "input\n",
      "[[1 8 8 0 7]\n",
      " [4 7 9 5 7]\n",
      " [5 4 6 8 6]\n",
      " [4 2 0 1 5]\n",
      " [0 1 0 2 0]]\n",
      "output\n",
      "[[0 0 0 0 0]\n",
      " [0 1 0 0 0]\n",
      " [0 0 0 0 0]\n",
      " [0 0 0 0 0]\n",
      " [0 0 0 0 0]]\n"
     ]
    }
   ],
   "source": [
    "# Min Filter Test\n",
    "result= min_filter(input_arr,5,5,3)\n",
    "print(f\"input\\n{input_arr}\\noutput\\n{result}\")"
   ]
  },
  {
   "cell_type": "code",
   "execution_count": 18,
   "id": "dc7fe566-d84e-4855-9919-8a4a9ac4a939",
   "metadata": {},
   "outputs": [
    {
     "name": "stdout",
     "output_type": "stream",
     "text": [
      "[[1 8 8 0 7]\n",
      " [4 7 9 5 7]\n",
      " [5 4 6 8 6]\n",
      " [4 2 0 1 5]\n",
      " [0 1 0 2 0]]\n"
     ]
    }
   ],
   "source": [
    "print(input_arr)"
   ]
  },
  {
   "cell_type": "code",
   "execution_count": 21,
   "id": "e4ff3699-e7df-40b1-ac03-c66da2c6be1f",
   "metadata": {},
   "outputs": [
    {
     "name": "stdout",
     "output_type": "stream",
     "text": [
      "[[1 8 8]\n",
      " [4 7 9]\n",
      " [5 4 6]]\n",
      "[[4 7 9]\n",
      " [5 4 6]\n",
      " [4 2 0]]\n",
      "[[8 8 0]\n",
      " [7 9 5]\n",
      " [4 6 8]]\n"
     ]
    }
   ],
   "source": [
    "print(input_arr[0:3,0:3])\n",
    "print(input_arr[0+1:3+1,0:3])\n",
    "print(input_arr[0:3,0+1:3+1])"
   ]
  },
  {
   "cell_type": "code",
   "execution_count": null,
   "id": "f6d868b9-abb8-4d44-9cf0-a15f54750508",
   "metadata": {},
   "outputs": [],
   "source": []
  }
 ],
 "metadata": {
  "kernelspec": {
   "display_name": "Python 3 (ipykernel)",
   "language": "python",
   "name": "python3"
  },
  "language_info": {
   "codemirror_mode": {
    "name": "ipython",
    "version": 3
   },
   "file_extension": ".py",
   "mimetype": "text/x-python",
   "name": "python",
   "nbconvert_exporter": "python",
   "pygments_lexer": "ipython3",
   "version": "3.11.2"
  }
 },
 "nbformat": 4,
 "nbformat_minor": 5
}
