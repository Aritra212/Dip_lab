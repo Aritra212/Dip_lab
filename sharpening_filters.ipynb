{
 "cells": [
  {
   "cell_type": "markdown",
   "id": "caa9a673-9534-435f-9de7-2f28ecb2aa10",
   "metadata": {},
   "source": [
    "### Import modules"
   ]
  },
  {
   "cell_type": "code",
   "execution_count": 54,
   "id": "eddd7117-335a-4415-92a2-edf6caaa3453",
   "metadata": {},
   "outputs": [],
   "source": [
    "import numpy as np\n",
    "import matplotlib.pyplot as plt\n",
    "import math\n",
    "%matplotlib inline"
   ]
  },
  {
   "cell_type": "markdown",
   "id": "1e042b75-716a-4166-af87-6100023b4c23",
   "metadata": {},
   "source": [
    "### Read Image Function"
   ]
  },
  {
   "cell_type": "code",
   "execution_count": 55,
   "id": "645d6935-6fb7-40f8-bd7c-9c699aa81a3e",
   "metadata": {},
   "outputs": [],
   "source": [
    "def Read_img(path):\n",
    "    img= open(path,\"r\")\n",
    "    g= img.readline()\n",
    "    c= img.readline()\n",
    "    rc= img.readline()\n",
    "    max= int(img.readline())\n",
    "    \n",
    "    [col,row]=[int (i) for i in rc.split()]\n",
    "    k=np.zeros((row,col),np.int64)  #Arry to store all image pixels\n",
    "    for i in range (row):\n",
    "        for j in range(col):\n",
    "            k[i,j]=img.readline()\n",
    "    \n",
    "    img.close()\n",
    "    plt.imshow(k,cmap='gray')\n",
    "    return k,g,c,rc,max,col,row"
   ]
  },
  {
   "cell_type": "markdown",
   "id": "0dd81957-7705-4aea-9857-3bf22e3e2d95",
   "metadata": {},
   "source": [
    "### Store/Write O/p Image Function"
   ]
  },
  {
   "cell_type": "code",
   "execution_count": 56,
   "id": "9ffb2686-e02d-41e2-935c-add4fd75bf79",
   "metadata": {},
   "outputs": [],
   "source": [
    "def Write_img(path,k,g,c,rc,max,col,row):\n",
    "    img= open(path,\"w\")\n",
    "    img.write(g)\n",
    "    img.write(c)\n",
    "    img.write(rc)\n",
    "    img.write(str(max)+\"\\n\")\n",
    "    \n",
    "    for i in range(row):\n",
    "        for j in range(col):\n",
    "            img.write(\"%d\\n\"%k[i,j])\n",
    "    plt.imshow(k,cmap='gray')\n",
    "    img.close()"
   ]
  },
  {
   "cell_type": "markdown",
   "id": "b77352a3-37b5-435f-8d70-1d7e1b9018e2",
   "metadata": {},
   "source": [
    "### Function used for padding"
   ]
  },
  {
   "cell_type": "code",
   "execution_count": 57,
   "id": "9c3155ea-df51-4eca-b7ac-81d0099179b6",
   "metadata": {},
   "outputs": [],
   "source": [
    "def add_padding(arr,row,col,k_row,k_col):\n",
    "    r_pd_size= (k_row-1)//2\n",
    "    c_pd_size= (k_col-1)//2\n",
    "    n_row=row+r_pd_size*2\n",
    "    n_col=col+c_pd_size*2\n",
    "    new_arr= np.zeros((n_row,n_col),np.int64)\n",
    "    for i in range(r_pd_size,row+r_pd_size):\n",
    "        for j in range(c_pd_size,col+c_pd_size):\n",
    "            new_arr[i,j]=arr[i-r_pd_size,j-c_pd_size]\n",
    "    return new_arr,n_row,n_col"
   ]
  },
  {
   "cell_type": "markdown",
   "id": "b928a248-9dec-4c6f-995f-17c330f21ecb",
   "metadata": {},
   "source": [
    "### Laplacian Mask"
   ]
  },
  {
   "cell_type": "code",
   "execution_count": 58,
   "id": "0489223d-83db-4f3c-bca3-7cddda45a499",
   "metadata": {},
   "outputs": [],
   "source": [
    "def laplacian(arr,row,col):\n",
    "    #kernel=np.array([[-1,-1,-1],[-1,8,-1],[-1,-1,-1]]) #kernel=np.array([[0,-1,0],[-1,4,-1],[0,-1,0]]) #kernel=np.array([[0,1,0],[1,-4,1],[0,1,0]]) #kernel=np.array([[1,1,1],[1,-8,1],[1,1,1]])\n",
    "    kernel=np.array([[0,1,0],[1,-4,1],[0,1,0]]) \n",
    "    k_row,k_col=kernel.shape\n",
    "    padded_img,n_row,n_col= add_padding(arr,row,col,k_row,k_col)\n",
    "    result= np.zeros((row,col),np.int64)  #Arry to store all image pixels after convolutation\n",
    "\n",
    "    for i in range(row):\n",
    "        for j in range(col):\n",
    "            result[i, j] = np.rint(np.sum(padded_img[i:i+k_row, j:j+k_col] * kernel))\n",
    "\n",
    "    return result"
   ]
  },
  {
   "cell_type": "markdown",
   "id": "81917314-797c-420e-b919-c416d66ea8a8",
   "metadata": {},
   "source": [
    "### Enhanced Laplation Filter"
   ]
  },
  {
   "cell_type": "code",
   "execution_count": 59,
   "id": "77cfbbc2-6e6d-483f-990d-256709d55f2a",
   "metadata": {},
   "outputs": [],
   "source": [
    "def laplacian_enhanced(arr,row,col):\n",
    "    #kernel=np.array([[-1,-1,-1],[-1,9,-1],[-1,-1,-1]]) #kernel=np.array([[0,-1,0],[-1,5,-1],[0,-1,0]]) #kernel=np.array([[0,1,0],[1,-5,1],[0,1,0]]) #kernel=np.array([[1,1,1],[1,-9,1],[1,1,1]])\n",
    "    kernel=np.array([[-1,-1,-1],[-1,9,-1],[-1,-1,-1]])\n",
    "    k_row,k_col=kernel.shape\n",
    "    padded_img,n_row,n_col= add_padding(arr,row,col,k_row,k_col)\n",
    "    result= np.zeros((row,col),np.int64)  #Arry to store all image pixels after convolutation\n",
    "\n",
    "    for i in range(row):\n",
    "        for j in range(col):\n",
    "            result[i, j] = np.rint(np.sum(padded_img[i:i+k_row, j:j+k_col] * kernel))\n",
    "\n",
    "    return result"
   ]
  },
  {
   "cell_type": "markdown",
   "id": "b96d0445-76bb-474a-9af3-2e2b0d8bfcee",
   "metadata": {},
   "source": [
    "### Roberts Operator"
   ]
  },
  {
   "cell_type": "code",
   "execution_count": 60,
   "id": "66a110ec-30b6-4e61-bb11-21bc3cee2dc9",
   "metadata": {},
   "outputs": [],
   "source": [
    "def roberts(arr,row,col):\n",
    "    gx_kernel=np.array([[-1,0],[0,-1]]) \n",
    "    gy_kernel=np.array([[0,-1],[1,0]])\n",
    "    k_row,k_col=gx_kernel.shape\n",
    "    padded_img,n_row,n_col= add_padding(arr,row,col,k_row,k_col)\n",
    "    result= np.zeros((row,col),np.int64)  #Arry to store all image pixels after convolutation\n",
    "\n",
    "    for i in range(row):\n",
    "        for j in range(col):\n",
    "            gx = np.sum(padded_img[i:i+k_row, j:j+k_col] * gx_kernel)\n",
    "            gy = np.sum(padded_img[i:i+k_row, j:j+k_col] * gy_kernel)\n",
    "            result[i,j]= np.rint(math.sqrt((gx**2)+(gy**2)))\n",
    "\n",
    "    return result"
   ]
  },
  {
   "cell_type": "markdown",
   "id": "805a96e1-f16c-4b4f-93dd-106975efc85e",
   "metadata": {},
   "source": [
    "### Sobel Operator"
   ]
  },
  {
   "cell_type": "code",
   "execution_count": 61,
   "id": "952b135d-9a38-41af-878c-5106434a5b56",
   "metadata": {},
   "outputs": [],
   "source": [
    "def sobel(arr,row,col):\n",
    "    gx_kernel=np.array([[-1,-2,-1],[0,0,0],[1,2,1]]) \n",
    "    gy_kernel=np.array([[-1,0,1],[-2,0,2],[-1,0,1]])\n",
    "    k_row,k_col=gx_kernel.shape\n",
    "    padded_img,n_row,n_col= add_padding(arr,row,col,k_row,k_col)\n",
    "    result= np.zeros((row,col),np.int64)  #Arry to store all image pixels after convolutation\n",
    "\n",
    "    for i in range(row):\n",
    "        for j in range(col):\n",
    "            gx = np.sum(padded_img[i:i+k_row, j:j+k_col] * gx_kernel)\n",
    "            gy = np.sum(padded_img[i:i+k_row, j:j+k_col] * gy_kernel)\n",
    "            result[i,j]= np.rint(math.sqrt((gx**2)+(gy**2)))\n",
    "    return result"
   ]
  },
  {
   "cell_type": "markdown",
   "id": "3df5a65f-8d5f-4995-a4dc-026388c1dcad",
   "metadata": {},
   "source": [
    "### Prewitt Operator"
   ]
  },
  {
   "cell_type": "code",
   "execution_count": 62,
   "id": "8878feb7-f240-49c9-ba75-c3f862181432",
   "metadata": {},
   "outputs": [],
   "source": [
    "def prewitt(arr,row,col):\n",
    "    gx_kernel=np.array([[-1,-1,-1],[0,0,0],[1,1,1]]) \n",
    "    gy_kernel=np.array([[-1,0,1],[-1,0,1],[-1,0,1]])\n",
    "    k_row,k_col=gx_kernel.shape\n",
    "    padded_img,n_row,n_col= add_padding(arr,row,col,k_row,k_col)\n",
    "    result= np.zeros((row,col),np.int64)  #Arry to store all image pixels after convolutation\n",
    "\n",
    "    for i in range(row):\n",
    "        for j in range(col):\n",
    "            gx = np.sum(padded_img[i:i+k_row, j:j+k_col] * gx_kernel)\n",
    "            gy = np.sum(padded_img[i:i+k_row, j:j+k_col] * gy_kernel)\n",
    "            result[i,j]= np.rint(math.sqrt((gx**2)+(gy**2)))\n",
    "    return result"
   ]
  },
  {
   "cell_type": "markdown",
   "id": "49050c60-b14b-479e-b794-5e04922ce054",
   "metadata": {},
   "source": [
    "### Main Function"
   ]
  },
  {
   "cell_type": "code",
   "execution_count": 72,
   "id": "e446f951-083f-4bbc-9db1-069139ce3db6",
   "metadata": {},
   "outputs": [
    {
     "name": "stdin",
     "output_type": "stream",
     "text": [
      "\n",
      "Enter 1 to apply Laplation filter\n",
      "Enter 2 to apply Enhanced Laplation filter\n",
      "Enter 3 to apply Roberts filter\n",
      "Enter 4 to apply Sobel filter\n",
      "Enter 5 to apply Prewitt filter\n",
      "Enter your choice::  2\n"
     ]
    },
    {
     "data": {
      "image/png": "[encoded data removed]",
      "text/plain": [
       "<Figure size 640x480 with 1 Axes>"
      ]
     },
     "metadata": {},
     "output_type": "display_data"
    }
   ],
   "source": [
    "if __name__ == '__main__':\n",
    "    \n",
    "    k1,g1,c1,rc1,max1,col1,row1= Read_img(\"..\\images\\DIP3E_Original_Images_CH03\\Fig0338(a)(blurry_moon).pgm\")\n",
    "\n",
    "    ch=int(input(\"\\nEnter 1 to apply Laplation filter\\nEnter 2 to apply Enhanced Laplation filter\\nEnter 3 to apply Roberts filter\\nEnter 4 to apply Sobel filter\\nEnter 5 to apply Prewitt filter\\nEnter your choice:: \"))\n",
    "\n",
    "    if ch==1:\n",
    "        result=laplacian(k1,row1,col1)\n",
    "        Write_img(f\"outputs\\\\laplation_img.pgm\",result,g1,c1,rc1,max1,col1,row1)\n",
    "    elif ch==2:\n",
    "        result=laplacian_enhanced(k1,row1,col1)\n",
    "        Write_img(f\"outputs\\\\enhanced_laplation_img.pgm\",result,g1,c1,rc1,max1,col1,row1)\n",
    "    elif ch==3:\n",
    "        result=roberts(k1,row1,col1)\n",
    "        Write_img(f\"outputs\\\\roberts_img.pgm\",result,g1,c1,rc1,max1,col1,row1)\n",
    "    \n",
    "    elif ch==4:\n",
    "        result=sobel(k1,row1,col1)\n",
    "        Write_img(f\"outputs\\\\sobel_img.pgm\",result,g1,c1,rc1,max1,col1,row1)\n",
    "        \n",
    "    elif ch==5:\n",
    "        result=prewitt(k1,row1,col1)\n",
    "        Write_img(f\"outputs\\\\prewitt_img.pgm\",result,g1,c1,rc1,max1,col1,row1)\n",
    "        \n",
    "    else :\n",
    "        print(\"\\nInvalid choice!\")"
   ]
  },
  {
   "cell_type": "markdown",
   "id": "e0b752ef-b4ac-4832-b5b0-337190bc98fb",
   "metadata": {},
   "source": [
    "### Tests"
   ]
  },
  {
   "cell_type": "code",
   "execution_count": 64,
   "id": "6426dee4-2036-4134-bc53-a780eeac78f8",
   "metadata": {},
   "outputs": [],
   "source": [
    "input_arr= arr=np.array([[1,8,8,0,7],[4,7,9,5,7],[5,4,6,8,6],[4,2,0,1,5],[0,1,0,2,0]])\n",
    "row,col=input_arr.shape"
   ]
  },
  {
   "cell_type": "code",
   "execution_count": 66,
   "id": "4dcd846e-85e8-4212-94d4-52f825117601",
   "metadata": {},
   "outputs": [
    {
     "name": "stdin",
     "output_type": "stream",
     "text": [
      "Enter Row size:  3\n",
      "Enter Column size:  3\n"
     ]
    },
    {
     "name": "stdout",
     "output_type": "stream",
     "text": [
      "Enter Data:\n"
     ]
    },
    {
     "name": "stdin",
     "output_type": "stream",
     "text": [
      " 3 1 4 3 2 5 2 3 4\n"
     ]
    },
    {
     "name": "stdout",
     "output_type": "stream",
     "text": [
      "[[3 1 4]\n",
      " [3 2 5]\n",
      " [2 3 4]]\n"
     ]
    }
   ],
   "source": [
    "row=int(input(\"Enter Row size: \"))\n",
    "col=int(input(\"Enter Column size: \"))\n",
    "print(\"Enter Data:\")\n",
    "elements = list(map(int, input().split()))  \n",
    "input_arr = np.array(elements).reshape(row, col)  \n",
    "print(input_arr)"
   ]
  },
  {
   "cell_type": "code",
   "execution_count": 67,
   "id": "ebfda71b-cd50-4c71-b34e-410179808240",
   "metadata": {},
   "outputs": [
    {
     "name": "stdout",
     "output_type": "stream",
     "text": [
      "input\n",
      "[[3 1 4]\n",
      " [3 2 5]\n",
      " [2 3 4]]\n",
      "output\n",
      "[[ -8   5 -10]\n",
      " [ -5   4 -10]\n",
      " [ -2  -4  -8]]\n"
     ]
    }
   ],
   "source": [
    "# Test Laplation Filter\n",
    "result= laplacian(input_arr,row,col)\n",
    "print(f\"input\\n{input_arr}\\noutput\\n{result}\")"
   ]
  },
  {
   "cell_type": "code",
   "execution_count": 68,
   "id": "1ad3b185-bb0a-4c8f-a4b9-f3a2baf583a7",
   "metadata": {},
   "outputs": [
    {
     "name": "stdout",
     "output_type": "stream",
     "text": [
      "input\n",
      "[[3 1 4]\n",
      " [3 2 5]\n",
      " [2 3 4]]\n",
      "output\n",
      "[[21 -8 28]\n",
      " [16 -7 31]\n",
      " [10 11 26]]\n"
     ]
    }
   ],
   "source": [
    "# Test Enhanced Laplation Filter\n",
    "result= laplacian_enhanced(input_arr,row,col)\n",
    "print(f\"input\\n{input_arr}\\noutput\\n{result}\")"
   ]
  },
  {
   "cell_type": "code",
   "execution_count": 69,
   "id": "775885ef-cbf9-4c2c-8c1e-1c6c1c4136a9",
   "metadata": {},
   "outputs": [
    {
     "name": "stdout",
     "output_type": "stream",
     "text": [
      "input\n",
      "[[3 1 4]\n",
      " [3 2 5]\n",
      " [2 3 4]]\n",
      "output\n",
      "[[5 6 9]\n",
      " [6 6 9]\n",
      " [5 7 8]]\n"
     ]
    }
   ],
   "source": [
    "# Test Roberts Filter\n",
    "result= roberts(input_arr,row,col)\n",
    "print(f\"input\\n{input_arr}\\noutput\\n{result}\")"
   ]
  },
  {
   "cell_type": "code",
   "execution_count": 70,
   "id": "93563e37-b312-4c8e-9343-dd83352f13a7",
   "metadata": {},
   "outputs": [
    {
     "name": "stdout",
     "output_type": "stream",
     "text": [
      "input \n",
      "[[3 1 4]\n",
      " [3 2 5]\n",
      " [2 3 4]]\n",
      "output\n",
      "[[ 9 13 13]\n",
      " [ 8  8  8]\n",
      " [11 13 14]]\n"
     ]
    }
   ],
   "source": [
    "# Test Sobel Filter\n",
    "result= sobel(input_arr,row,col)\n",
    "print(f\"input\\n{input_arr}\\noutput\\n{result}\")"
   ]
  },
  {
   "cell_type": "code",
   "execution_count": 71,
   "id": "67cbe73e-32b7-4e48-9029-49b8e0778fd9",
   "metadata": {},
   "outputs": [
    {
     "name": "stdout",
     "output_type": "stream",
     "text": [
      "input\n",
      "[[3 1 4]\n",
      " [3 2 5]\n",
      " [2 3 4]]\n",
      "output\n",
      "[[ 6 10  8]\n",
      " [ 6  5  6]\n",
      " [ 7 11  9]]\n"
     ]
    }
   ],
   "source": [
    "# Test Prewitt Filter\n",
    "result= prewitt(input_arr,row,col)\n",
    "print(f\"input\\n{input_arr}\\noutput\\n{result}\")"
   ]
  },
  {
   "cell_type": "code",
   "execution_count": null,
   "id": "08346fb8-e963-4a16-9b6b-b0b58baa0070",
   "metadata": {},
   "outputs": [],
   "source": []
  }
 ],
 "metadata": {
  "kernelspec": {
   "display_name": "Python 3 (ipykernel)",
   "language": "python",
   "name": "python3"
  },
  "language_info": {
   "codemirror_mode": {
    "name": "ipython",
    "version": 3
   },
   "file_extension": ".py",
   "mimetype": "text/x-python",
   "name": "python",
   "nbconvert_exporter": "python",
   "pygments_lexer": "ipython3",
   "version": "3.11.2"
  }
 },
 "nbformat": 4,
 "nbformat_minor": 5
}
